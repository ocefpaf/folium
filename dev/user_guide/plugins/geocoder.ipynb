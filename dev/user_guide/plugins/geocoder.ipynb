{
 "cells": [
  {
   "cell_type": "code",
   "execution_count": 1,
   "id": "3f1217c5",
   "metadata": {
    "execution": {
     "iopub.execute_input": "2025-05-13T13:28:31.692159Z",
     "iopub.status.busy": "2025-05-13T13:28:31.692001Z",
     "iopub.status.idle": "2025-05-13T13:28:32.190583Z",
     "shell.execute_reply": "2025-05-13T13:28:32.190082Z"
    },
    "nbsphinx": "hidden"
   },
   "outputs": [],
   "source": [
    "import folium\n",
    "import folium.plugins"
   ]
  },
  {
   "cell_type": "markdown",
   "id": "aefb9072",
   "metadata": {},
   "source": [
    "## Geocoder\n",
    "\n",
    "Add a search box to the map to search for geographic features like cities, countries, etc. You can search with names or addresses.\n",
    "\n",
    "Uses the Nomatim service from OpenStreetMap. Please respect their usage policy: https://operations.osmfoundation.org/policies/nominatim/"
   ]
  },
  {
   "cell_type": "code",
   "execution_count": 2,
   "id": "32efae02",
   "metadata": {
    "execution": {
     "iopub.execute_input": "2025-05-13T13:28:32.192540Z",
     "iopub.status.busy": "2025-05-13T13:28:32.192191Z",
     "iopub.status.idle": "2025-05-13T13:28:32.204137Z",
     "shell.execute_reply": "2025-05-13T13:28:32.203675Z"
    }
   },
   "outputs": [
    {
     "data": {
      "text/html": [
       "<div style=\"width:100%;\"><div style=\"position:relative;width:100%;height:0;padding-bottom:60%;\"><span style=\"color:#565656\">Make this Notebook Trusted to load map: File -> Trust Notebook</span><iframe srcdoc=\"&lt;!DOCTYPE html&gt;\n",
       "&lt;html&gt;\n",
       "&lt;head&gt;\n",
       "    \n",
       "    &lt;meta http-equiv=&quot;content-type&quot; content=&quot;text/html; charset=UTF-8&quot; /&gt;\n",
       "    &lt;script src=&quot;https://cdn.jsdelivr.net/npm/leaflet@1.9.3/dist/leaflet.js&quot;&gt;&lt;/script&gt;\n",
       "    &lt;script src=&quot;https://code.jquery.com/jquery-3.7.1.min.js&quot;&gt;&lt;/script&gt;\n",
       "    &lt;script src=&quot;https://cdn.jsdelivr.net/npm/bootstrap@5.2.2/dist/js/bootstrap.bundle.min.js&quot;&gt;&lt;/script&gt;\n",
       "    &lt;script src=&quot;https://cdnjs.cloudflare.com/ajax/libs/Leaflet.awesome-markers/2.0.2/leaflet.awesome-markers.js&quot;&gt;&lt;/script&gt;\n",
       "    &lt;link rel=&quot;stylesheet&quot; href=&quot;https://cdn.jsdelivr.net/npm/leaflet@1.9.3/dist/leaflet.css&quot;/&gt;\n",
       "    &lt;link rel=&quot;stylesheet&quot; href=&quot;https://cdn.jsdelivr.net/npm/bootstrap@5.2.2/dist/css/bootstrap.min.css&quot;/&gt;\n",
       "    &lt;link rel=&quot;stylesheet&quot; href=&quot;https://netdna.bootstrapcdn.com/bootstrap/3.0.0/css/bootstrap-glyphicons.css&quot;/&gt;\n",
       "    &lt;link rel=&quot;stylesheet&quot; href=&quot;https://cdn.jsdelivr.net/npm/@fortawesome/fontawesome-free@6.2.0/css/all.min.css&quot;/&gt;\n",
       "    &lt;link rel=&quot;stylesheet&quot; href=&quot;https://cdnjs.cloudflare.com/ajax/libs/Leaflet.awesome-markers/2.0.2/leaflet.awesome-markers.css&quot;/&gt;\n",
       "    &lt;link rel=&quot;stylesheet&quot; href=&quot;https://cdn.jsdelivr.net/gh/python-visualization/folium/folium/templates/leaflet.awesome.rotate.min.css&quot;/&gt;\n",
       "    \n",
       "            &lt;meta name=&quot;viewport&quot; content=&quot;width=device-width,\n",
       "                initial-scale=1.0, maximum-scale=1.0, user-scalable=no&quot; /&gt;\n",
       "            &lt;style&gt;\n",
       "                #map_25d6e702b5268eb7e5a3e851636fd015 {\n",
       "                    position: relative;\n",
       "                    width: 100.0%;\n",
       "                    height: 100.0%;\n",
       "                    left: 0.0%;\n",
       "                    top: 0.0%;\n",
       "                }\n",
       "                .leaflet-container { font-size: 1rem; }\n",
       "            &lt;/style&gt;\n",
       "\n",
       "            &lt;style&gt;html, body {\n",
       "                width: 100%;\n",
       "                height: 100%;\n",
       "                margin: 0;\n",
       "                padding: 0;\n",
       "            }\n",
       "            &lt;/style&gt;\n",
       "\n",
       "            &lt;style&gt;#map {\n",
       "                position:absolute;\n",
       "                top:0;\n",
       "                bottom:0;\n",
       "                right:0;\n",
       "                left:0;\n",
       "                }\n",
       "            &lt;/style&gt;\n",
       "\n",
       "            &lt;script&gt;\n",
       "                L_NO_TOUCH = false;\n",
       "                L_DISABLE_3D = false;\n",
       "            &lt;/script&gt;\n",
       "\n",
       "        \n",
       "    &lt;script src=&quot;https://unpkg.com/leaflet-control-geocoder/dist/Control.Geocoder.js&quot;&gt;&lt;/script&gt;\n",
       "    &lt;link rel=&quot;stylesheet&quot; href=&quot;https://unpkg.com/leaflet-control-geocoder/dist/Control.Geocoder.css&quot;/&gt;\n",
       "&lt;/head&gt;\n",
       "&lt;body&gt;\n",
       "    \n",
       "    \n",
       "            &lt;div class=&quot;folium-map&quot; id=&quot;map_25d6e702b5268eb7e5a3e851636fd015&quot; &gt;&lt;/div&gt;\n",
       "        \n",
       "&lt;/body&gt;\n",
       "&lt;script&gt;\n",
       "    \n",
       "    \n",
       "            var map_25d6e702b5268eb7e5a3e851636fd015 = L.map(\n",
       "                &quot;map_25d6e702b5268eb7e5a3e851636fd015&quot;,\n",
       "                {\n",
       "                    center: [0.0, 0.0],\n",
       "                    crs: L.CRS.EPSG3857,\n",
       "                    ...{\n",
       "  &quot;zoom&quot;: 1,\n",
       "  &quot;zoomControl&quot;: true,\n",
       "  &quot;preferCanvas&quot;: false,\n",
       "}\n",
       "\n",
       "                }\n",
       "            );\n",
       "\n",
       "            \n",
       "\n",
       "        \n",
       "    \n",
       "            var tile_layer_0530199efd621b157ab993172fba195b = L.tileLayer(\n",
       "                &quot;https://tile.openstreetmap.org/{z}/{x}/{y}.png&quot;,\n",
       "                {\n",
       "  &quot;minZoom&quot;: 0,\n",
       "  &quot;maxZoom&quot;: 19,\n",
       "  &quot;maxNativeZoom&quot;: 19,\n",
       "  &quot;noWrap&quot;: false,\n",
       "  &quot;attribution&quot;: &quot;\\u0026copy; \\u003ca href=\\&quot;https://www.openstreetmap.org/copyright\\&quot;\\u003eOpenStreetMap\\u003c/a\\u003e contributors&quot;,\n",
       "  &quot;subdomains&quot;: &quot;abc&quot;,\n",
       "  &quot;detectRetina&quot;: false,\n",
       "  &quot;tms&quot;: false,\n",
       "  &quot;opacity&quot;: 1,\n",
       "}\n",
       "\n",
       "            );\n",
       "        \n",
       "    \n",
       "            tile_layer_0530199efd621b157ab993172fba195b.addTo(map_25d6e702b5268eb7e5a3e851636fd015);\n",
       "        \n",
       "    \n",
       "\n",
       "            var geocoderOpts_geocoder_0399641777a146b69a4469159bb77b21 = {\n",
       "  &quot;collapsed&quot;: false,\n",
       "  &quot;position&quot;: &quot;topright&quot;,\n",
       "  &quot;defaultMarkGeocode&quot;: true,\n",
       "  &quot;zoom&quot;: 11,\n",
       "  &quot;provider&quot;: &quot;nominatim&quot;,\n",
       "  &quot;providerOptions&quot;: {\n",
       "},\n",
       "};\n",
       "\n",
       "            // note: geocoder name should start with lowercase\n",
       "            var geocoderName_geocoder_0399641777a146b69a4469159bb77b21 = geocoderOpts_geocoder_0399641777a146b69a4469159bb77b21[&quot;provider&quot;];\n",
       "\n",
       "            var customGeocoder_geocoder_0399641777a146b69a4469159bb77b21 = L.Control.Geocoder[ geocoderName_geocoder_0399641777a146b69a4469159bb77b21 ](\n",
       "                geocoderOpts_geocoder_0399641777a146b69a4469159bb77b21[&#x27;providerOptions&#x27;]\n",
       "            );\n",
       "            geocoderOpts_geocoder_0399641777a146b69a4469159bb77b21[&quot;geocoder&quot;] = customGeocoder_geocoder_0399641777a146b69a4469159bb77b21;\n",
       "\n",
       "            L.Control.geocoder(\n",
       "                geocoderOpts_geocoder_0399641777a146b69a4469159bb77b21\n",
       "            ).on(&#x27;markgeocode&#x27;, function(e) {\n",
       "                var zoom = geocoderOpts_geocoder_0399641777a146b69a4469159bb77b21[&#x27;zoom&#x27;] || map_25d6e702b5268eb7e5a3e851636fd015.getZoom();\n",
       "                map_25d6e702b5268eb7e5a3e851636fd015.setView(e.geocode.center, zoom);\n",
       "            }).addTo(map_25d6e702b5268eb7e5a3e851636fd015);\n",
       "\n",
       "        \n",
       "&lt;/script&gt;\n",
       "&lt;/html&gt;\" style=\"position:absolute;width:100%;height:100%;left:0;top:0;border:none !important;\" allowfullscreen webkitallowfullscreen mozallowfullscreen></iframe></div></div>"
      ],
      "text/plain": [
       "<folium.folium.Map at 0x7fc4a0b54050>"
      ]
     },
     "execution_count": 2,
     "metadata": {},
     "output_type": "execute_result"
    }
   ],
   "source": [
    "m = folium.Map()\n",
    "\n",
    "folium.plugins.Geocoder().add_to(m)\n",
    "\n",
    "m"
   ]
  }
 ],
 "metadata": {
  "jupytext": {
   "text_representation": {
    "extension": ".mystnb",
    "format_name": "myst"
   }
  },
  "language_info": {
   "codemirror_mode": {
    "name": "ipython",
    "version": 3
   },
   "file_extension": ".py",
   "mimetype": "text/x-python",
   "name": "python",
   "nbconvert_exporter": "python",
   "pygments_lexer": "ipython3",
   "version": "3.12.10"
  }
 },
 "nbformat": 4,
 "nbformat_minor": 5
}
