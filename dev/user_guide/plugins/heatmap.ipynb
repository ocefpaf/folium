{
 "cells": [
  {
   "cell_type": "markdown",
   "id": "eff9aa61",
   "metadata": {},
   "source": [
    "## Heatmap"
   ]
  },
  {
   "cell_type": "code",
   "execution_count": 1,
   "id": "c41152a5",
   "metadata": {
    "execution": {
     "iopub.execute_input": "2025-05-05T13:24:48.376883Z",
     "iopub.status.busy": "2025-05-05T13:24:48.376721Z",
     "iopub.status.idle": "2025-05-05T13:24:48.434860Z",
     "shell.execute_reply": "2025-05-05T13:24:48.434372Z"
    }
   },
   "outputs": [],
   "source": [
    "import numpy as np\n",
    "\n",
    "data = (\n",
    "    np.random.normal(size=(100, 3)) * np.array([[1, 1, 1]]) + np.array([[48, 5, 1]])\n",
    ").tolist()"
   ]
  },
  {
   "cell_type": "code",
   "execution_count": 2,
   "id": "e3a64448",
   "metadata": {
    "execution": {
     "iopub.execute_input": "2025-05-05T13:24:48.437331Z",
     "iopub.status.busy": "2025-05-05T13:24:48.437081Z",
     "iopub.status.idle": "2025-05-05T13:24:48.902863Z",
     "shell.execute_reply": "2025-05-05T13:24:48.902308Z"
    }
   },
   "outputs": [
    {
     "data": {
      "text/html": [
       "<div style=\"width:100%;\"><div style=\"position:relative;width:100%;height:0;padding-bottom:60%;\"><span style=\"color:#565656\">Make this Notebook Trusted to load map: File -> Trust Notebook</span><iframe srcdoc=\"&lt;!DOCTYPE html&gt;\n",
       "&lt;html&gt;\n",
       "&lt;head&gt;\n",
       "    \n",
       "    &lt;meta http-equiv=&quot;content-type&quot; content=&quot;text/html; charset=UTF-8&quot; /&gt;\n",
       "    &lt;script src=&quot;https://cdn.jsdelivr.net/npm/leaflet@1.9.3/dist/leaflet.js&quot;&gt;&lt;/script&gt;\n",
       "    &lt;script src=&quot;https://code.jquery.com/jquery-3.7.1.min.js&quot;&gt;&lt;/script&gt;\n",
       "    &lt;script src=&quot;https://cdn.jsdelivr.net/npm/bootstrap@5.2.2/dist/js/bootstrap.bundle.min.js&quot;&gt;&lt;/script&gt;\n",
       "    &lt;script src=&quot;https://cdnjs.cloudflare.com/ajax/libs/Leaflet.awesome-markers/2.0.2/leaflet.awesome-markers.js&quot;&gt;&lt;/script&gt;\n",
       "    &lt;link rel=&quot;stylesheet&quot; href=&quot;https://cdn.jsdelivr.net/npm/leaflet@1.9.3/dist/leaflet.css&quot;/&gt;\n",
       "    &lt;link rel=&quot;stylesheet&quot; href=&quot;https://cdn.jsdelivr.net/npm/bootstrap@5.2.2/dist/css/bootstrap.min.css&quot;/&gt;\n",
       "    &lt;link rel=&quot;stylesheet&quot; href=&quot;https://netdna.bootstrapcdn.com/bootstrap/3.0.0/css/bootstrap-glyphicons.css&quot;/&gt;\n",
       "    &lt;link rel=&quot;stylesheet&quot; href=&quot;https://cdn.jsdelivr.net/npm/@fortawesome/fontawesome-free@6.2.0/css/all.min.css&quot;/&gt;\n",
       "    &lt;link rel=&quot;stylesheet&quot; href=&quot;https://cdnjs.cloudflare.com/ajax/libs/Leaflet.awesome-markers/2.0.2/leaflet.awesome-markers.css&quot;/&gt;\n",
       "    &lt;link rel=&quot;stylesheet&quot; href=&quot;https://cdn.jsdelivr.net/gh/python-visualization/folium/folium/templates/leaflet.awesome.rotate.min.css&quot;/&gt;\n",
       "    \n",
       "            &lt;meta name=&quot;viewport&quot; content=&quot;width=device-width,\n",
       "                initial-scale=1.0, maximum-scale=1.0, user-scalable=no&quot; /&gt;\n",
       "            &lt;style&gt;\n",
       "                #map_4e43adbfcd3c661db0914b2ddbf15fcb {\n",
       "                    position: relative;\n",
       "                    width: 100.0%;\n",
       "                    height: 100.0%;\n",
       "                    left: 0.0%;\n",
       "                    top: 0.0%;\n",
       "                }\n",
       "                .leaflet-container { font-size: 1rem; }\n",
       "            &lt;/style&gt;\n",
       "\n",
       "            &lt;style&gt;html, body {\n",
       "                width: 100%;\n",
       "                height: 100%;\n",
       "                margin: 0;\n",
       "                padding: 0;\n",
       "            }\n",
       "            &lt;/style&gt;\n",
       "\n",
       "            &lt;style&gt;#map {\n",
       "                position:absolute;\n",
       "                top:0;\n",
       "                bottom:0;\n",
       "                right:0;\n",
       "                left:0;\n",
       "                }\n",
       "            &lt;/style&gt;\n",
       "\n",
       "            &lt;script&gt;\n",
       "                L_NO_TOUCH = false;\n",
       "                L_DISABLE_3D = false;\n",
       "            &lt;/script&gt;\n",
       "\n",
       "        \n",
       "    &lt;script src=&quot;https://cdn.jsdelivr.net/gh/python-visualization/folium@main/folium/templates/leaflet_heat.min.js&quot;&gt;&lt;/script&gt;\n",
       "&lt;/head&gt;\n",
       "&lt;body&gt;\n",
       "    \n",
       "    \n",
       "            &lt;div class=&quot;folium-map&quot; id=&quot;map_4e43adbfcd3c661db0914b2ddbf15fcb&quot; &gt;&lt;/div&gt;\n",
       "        \n",
       "&lt;/body&gt;\n",
       "&lt;script&gt;\n",
       "    \n",
       "    \n",
       "            var map_4e43adbfcd3c661db0914b2ddbf15fcb = L.map(\n",
       "                &quot;map_4e43adbfcd3c661db0914b2ddbf15fcb&quot;,\n",
       "                {\n",
       "                    center: [48.0, 5.0],\n",
       "                    crs: L.CRS.EPSG3857,\n",
       "                    ...{\n",
       "  &quot;zoom&quot;: 6,\n",
       "  &quot;zoomControl&quot;: true,\n",
       "  &quot;preferCanvas&quot;: false,\n",
       "}\n",
       "\n",
       "                }\n",
       "            );\n",
       "\n",
       "            \n",
       "\n",
       "        \n",
       "    \n",
       "            var tile_layer_ec24bb4a7edb2230dc8ca4effe043442 = L.tileLayer(\n",
       "                &quot;https://tile.openstreetmap.org/{z}/{x}/{y}.png&quot;,\n",
       "                {\n",
       "  &quot;minZoom&quot;: 0,\n",
       "  &quot;maxZoom&quot;: 19,\n",
       "  &quot;maxNativeZoom&quot;: 19,\n",
       "  &quot;noWrap&quot;: false,\n",
       "  &quot;attribution&quot;: &quot;\\u0026copy; \\u003ca href=\\&quot;https://www.openstreetmap.org/copyright\\&quot;\\u003eOpenStreetMap\\u003c/a\\u003e contributors&quot;,\n",
       "  &quot;subdomains&quot;: &quot;abc&quot;,\n",
       "  &quot;detectRetina&quot;: false,\n",
       "  &quot;tms&quot;: false,\n",
       "  &quot;opacity&quot;: 1,\n",
       "}\n",
       "\n",
       "            );\n",
       "        \n",
       "    \n",
       "            tile_layer_ec24bb4a7edb2230dc8ca4effe043442.addTo(map_4e43adbfcd3c661db0914b2ddbf15fcb);\n",
       "        \n",
       "    \n",
       "            var heat_map_ebd1162267b4ca236ed89a4bb0e75f22 = L.heatLayer(\n",
       "                [[47.762833670832165, 6.026794979734346, 1.2543138978535744], [47.167171970392666, 5.966387081525866, 1.8386481140190991], [49.09342431034651, 4.654479380995638, 2.3236545047682258], [47.49508371405009, 5.1772187865722525, 1.0952396751382947], [47.559059463066376, 3.5691769254369237, 1.510620860506967], [48.16649269659822, 3.6869687596642295, 0.552035180597195], [48.267441715367035, 4.643129364815415, 2.000613808622899], [47.640239882859625, 4.794845047164282, 2.2821111817976263], [48.37153314666188, 4.574591758915247, 1.2878502384556532], [48.096165220050665, 4.516882155764778, 0.359663404804055], [46.56270273116585, 5.561194959564412, 1.057227633196541], [46.817959690290614, 2.806237068535316, 0.9496057202244166], [45.86120083733228, 4.507632291494911, 1.889051139303234], [46.808521203744256, 6.320716851951699, -0.4178475297413067], [50.33235561465065, 5.234490564230845, 0.3172143074942777], [49.04068206698273, 5.13903199946411, 1.517151625733609], [48.13840223828696, 5.163928792857199, 1.0503403006454246], [49.80111677025491, 5.3464782481574105, 2.6270291987447454], [47.850639116863874, 5.6324265927701935, 0.6304771579620345], [48.057206722688704, 3.954980460094349, 0.9242495250087547], [47.61474079526641, 6.035821593578204, 0.9062290170948553], [49.88504682504693, 3.3576800912130484, 0.9769191138264073], [48.70945207474285, 3.7706800181745335, 1.350223155339386], [48.93820486380455, 4.4298843936499885, 2.0487964919344144], [48.958049435994305, 4.414553520908711, 2.0499291421333563], [46.72415982477601, 6.580234016975394, 1.8062507890028603], [46.34182971713513, 4.9807563937961, -0.6091639236044102], [48.35129973259999, 5.379405874965972, 0.9344076489888159], [48.821197952930056, 6.562378162643463, 1.243973257956329], [48.242187028708734, 5.013636200607244, 0.33540942544856256], [48.53087936972484, 5.378345552133762, 0.7324275939188657], [49.266838476935305, 6.217321174731337, 1.3999823838695835], [49.69991781051748, 4.772206637631535, 2.031296542391444], [48.493413771983235, 5.092532575224334, 1.7150460689836828], [47.85382087362379, 3.205446402266804, 0.6123016512808663], [48.09929788105013, 3.9068790445105366, 0.09249624297092796], [48.77645230295936, 5.586068493159239, 1.0813987458053436], [48.33747050258651, 4.658841150197014, 1.4181853911407083], [48.1649503465179, 4.593135142741557, 1.6830757367263556], [49.819296335744966, 3.9961204990553147, 1.6964287239802318], [48.32108154992156, 5.192814976166926, 2.6102896713056425], [47.45938950558723, 4.039812204938574, 0.5035389644350938], [48.30617610508807, 5.257021654799698, -0.044950736100781485], [47.57290918865881, 5.317143536383016, 0.11182213353744341], [47.756732859499756, 4.007869481867102, 1.6207799975293307], [47.47832501052101, 6.70830962259696, 2.6351919593874245], [48.23250175440258, 6.165998009061442, 0.12783178952263174], [51.10887610287945, 4.794689479255463, 0.8418465451845997], [47.717346658253376, 4.658897906382805, 1.4064851761680868], [48.371900782807295, 4.0963973890412655, 1.9453670454950578], [46.3537763641212, 6.3610254121114576, 2.2609800740456967], [48.150286642977804, 4.582887720625294, -1.7362480919340362], [46.288272864163325, 4.0400716105059935, 1.8968853678322481], [45.76439271878192, 4.181860626378236, 0.9638841413788429], [49.13027637012415, 3.6486074707732037, 3.196899236100268], [47.85326705986597, 3.7015098068921475, 1.6098156096234986], [48.35637842902923, 4.750312695920247, -1.3632122051802362], [47.73221020268337, 4.742337598455755, -0.32590293434817763], [47.83916237576912, 4.632633412668618, 1.4816676649284426], [47.48405957941184, 6.474052423520734, 2.3203376457109517], [48.665614277211226, 6.329103517746129, 0.6648151537332074], [48.18695095284897, 4.15804632982047, 1.5689781375462029], [47.62078093705291, 5.847645376786243, 0.22660150014439862], [48.342768051962196, 4.979263513711107, 1.835592054933397], [47.07394342249954, 5.564814358412929, 1.1059651796247483], [46.20177727515218, 4.450213462796385, 0.9131127110884902], [47.28241193532857, 4.4566630944810735, 0.7811217718847336], [49.93795535717034, 4.922012621339967, 1.1750005235688654], [46.36547001503723, 4.590158503422074, 0.5070178667473026], [47.30010754198673, 4.555233075239236, 0.5144338930785384], [47.0658476059871, 3.896364595048071, -0.29314723383995456], [49.69907600025748, 6.377031748353032, 2.246325948088102], [48.006747586918515, 5.806082949225548, 1.429225080759525], [49.55489227192907, 4.86278110032269, 1.271675102400837], [47.138246105128665, 4.972151533630748, -0.013794787632333438], [47.57283189963016, 4.904585252884136, 1.4134833694559157], [48.45813298067795, 4.7713495839826905, 0.3043877443130266], [47.169914799009305, 5.0294897234268765, 0.969538424367915], [48.437478793740375, 5.913195613390452, 3.1113303177337173], [47.69024269429424, 5.572117899662539, 1.25398798755661], [46.759185543158225, 6.7715448930786195, 0.3519921553722518], [49.42864224986222, 4.264741943365113, 1.7676048580643542], [48.56775812893545, 5.43132098726867, 1.7251577758408505], [47.82140720052709, 4.232604355616677, 0.7959451444954511], [48.38205890639459, 6.492701183105077, -0.773923271421616], [46.72226192162979, 5.524983517325272, 1.4534677467613637], [49.75274517384311, 7.239000429237791, 1.7296941919294544], [49.049350629888316, 4.934343922882871, 0.13224958000181108], [50.254384507536265, 5.037886203022202, -0.6063071635081778], [48.24869404208078, 6.073978624389839, 1.1561391606217737], [47.90168915867324, 4.857884641897427, 0.7633910729707277], [47.28505503325978, 6.18651619730025, 0.7925448033978425], [48.338122295564574, 3.6807470818615644, 1.749964269032474], [48.66369658638445, 4.90720733021624, 2.05403052961778], [48.0514064311363, 4.790714448727045, 1.7843981308054442], [48.97943013347706, 4.429712071136204, 1.3432056269966057], [45.9443494521473, 6.441939014696698, 3.028762505547259], [48.17225786605807, 4.614408217522263, -0.5518473787677445], [48.49344119745184, 5.102394396242726, 2.6982704095569146], [47.48389310080555, 6.108308180923352, 1.117320850150262]],\n",
       "                {\n",
       "  &quot;minOpacity&quot;: 0.5,\n",
       "  &quot;maxZoom&quot;: 18,\n",
       "  &quot;radius&quot;: 25,\n",
       "  &quot;blur&quot;: 15,\n",
       "}\n",
       "            );\n",
       "        \n",
       "    \n",
       "            heat_map_ebd1162267b4ca236ed89a4bb0e75f22.addTo(map_4e43adbfcd3c661db0914b2ddbf15fcb);\n",
       "        \n",
       "&lt;/script&gt;\n",
       "&lt;/html&gt;\" style=\"position:absolute;width:100%;height:100%;left:0;top:0;border:none !important;\" allowfullscreen webkitallowfullscreen mozallowfullscreen></iframe></div></div>"
      ],
      "text/plain": [
       "<folium.folium.Map at 0x7fb0098d9520>"
      ]
     },
     "execution_count": 2,
     "metadata": {},
     "output_type": "execute_result"
    }
   ],
   "source": [
    "import folium\n",
    "from folium.plugins import HeatMap\n",
    "\n",
    "m = folium.Map([48.0, 5.0], zoom_start=6)\n",
    "\n",
    "HeatMap(data).add_to(m)\n",
    "\n",
    "m"
   ]
  }
 ],
 "metadata": {
  "jupytext": {
   "text_representation": {
    "extension": ".mystnb",
    "format_name": "myst"
   }
  },
  "language_info": {
   "codemirror_mode": {
    "name": "ipython",
    "version": 3
   },
   "file_extension": ".py",
   "mimetype": "text/x-python",
   "name": "python",
   "nbconvert_exporter": "python",
   "pygments_lexer": "ipython3",
   "version": "3.12.10"
  }
 },
 "nbformat": 4,
 "nbformat_minor": 5
}
