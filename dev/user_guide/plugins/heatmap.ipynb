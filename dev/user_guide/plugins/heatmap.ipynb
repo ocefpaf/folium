{
 "cells": [
  {
   "cell_type": "markdown",
   "id": "8de3e58e",
   "metadata": {},
   "source": [
    "## Heatmap"
   ]
  },
  {
   "cell_type": "code",
   "execution_count": 1,
   "id": "885d5370",
   "metadata": {
    "execution": {
     "iopub.execute_input": "2025-07-22T13:34:03.806561Z",
     "iopub.status.busy": "2025-07-22T13:34:03.806371Z",
     "iopub.status.idle": "2025-07-22T13:34:03.863684Z",
     "shell.execute_reply": "2025-07-22T13:34:03.863211Z"
    }
   },
   "outputs": [],
   "source": [
    "import numpy as np\n",
    "\n",
    "data = (\n",
    "    np.random.normal(size=(100, 3)) * np.array([[1, 1, 1]]) + np.array([[48, 5, 1]])\n",
    ").tolist()"
   ]
  },
  {
   "cell_type": "code",
   "execution_count": 2,
   "id": "912f7eef",
   "metadata": {
    "execution": {
     "iopub.execute_input": "2025-07-22T13:34:03.865986Z",
     "iopub.status.busy": "2025-07-22T13:34:03.865763Z",
     "iopub.status.idle": "2025-07-22T13:34:04.317016Z",
     "shell.execute_reply": "2025-07-22T13:34:04.316596Z"
    }
   },
   "outputs": [
    {
     "data": {
      "text/html": [
       "<div style=\"width:100%;\"><div style=\"position:relative;width:100%;height:0;padding-bottom:60%;\"><span style=\"color:#565656\">Make this Notebook Trusted to load map: File -> Trust Notebook</span><iframe srcdoc=\"&lt;!DOCTYPE html&gt;\n",
       "&lt;html&gt;\n",
       "&lt;head&gt;\n",
       "    \n",
       "    &lt;meta http-equiv=&quot;content-type&quot; content=&quot;text/html; charset=UTF-8&quot; /&gt;\n",
       "    &lt;script src=&quot;https://cdn.jsdelivr.net/npm/leaflet@1.9.3/dist/leaflet.js&quot;&gt;&lt;/script&gt;\n",
       "    &lt;script src=&quot;https://code.jquery.com/jquery-3.7.1.min.js&quot;&gt;&lt;/script&gt;\n",
       "    &lt;script src=&quot;https://cdn.jsdelivr.net/npm/bootstrap@5.2.2/dist/js/bootstrap.bundle.min.js&quot;&gt;&lt;/script&gt;\n",
       "    &lt;script src=&quot;https://cdnjs.cloudflare.com/ajax/libs/Leaflet.awesome-markers/2.0.2/leaflet.awesome-markers.js&quot;&gt;&lt;/script&gt;\n",
       "    &lt;link rel=&quot;stylesheet&quot; href=&quot;https://cdn.jsdelivr.net/npm/leaflet@1.9.3/dist/leaflet.css&quot;/&gt;\n",
       "    &lt;link rel=&quot;stylesheet&quot; href=&quot;https://cdn.jsdelivr.net/npm/bootstrap@5.2.2/dist/css/bootstrap.min.css&quot;/&gt;\n",
       "    &lt;link rel=&quot;stylesheet&quot; href=&quot;https://netdna.bootstrapcdn.com/bootstrap/3.0.0/css/bootstrap-glyphicons.css&quot;/&gt;\n",
       "    &lt;link rel=&quot;stylesheet&quot; href=&quot;https://cdn.jsdelivr.net/npm/@fortawesome/fontawesome-free@6.2.0/css/all.min.css&quot;/&gt;\n",
       "    &lt;link rel=&quot;stylesheet&quot; href=&quot;https://cdnjs.cloudflare.com/ajax/libs/Leaflet.awesome-markers/2.0.2/leaflet.awesome-markers.css&quot;/&gt;\n",
       "    &lt;link rel=&quot;stylesheet&quot; href=&quot;https://cdn.jsdelivr.net/gh/python-visualization/folium/folium/templates/leaflet.awesome.rotate.min.css&quot;/&gt;\n",
       "    \n",
       "            &lt;meta name=&quot;viewport&quot; content=&quot;width=device-width,\n",
       "                initial-scale=1.0, maximum-scale=1.0, user-scalable=no&quot; /&gt;\n",
       "            &lt;style&gt;\n",
       "                #map_4b4e4cdc0b4439ead2c11ba691de88fd {\n",
       "                    position: relative;\n",
       "                    width: 100.0%;\n",
       "                    height: 100.0%;\n",
       "                    left: 0.0%;\n",
       "                    top: 0.0%;\n",
       "                }\n",
       "                .leaflet-container { font-size: 1rem; }\n",
       "            &lt;/style&gt;\n",
       "\n",
       "            &lt;style&gt;html, body {\n",
       "                width: 100%;\n",
       "                height: 100%;\n",
       "                margin: 0;\n",
       "                padding: 0;\n",
       "            }\n",
       "            &lt;/style&gt;\n",
       "\n",
       "            &lt;style&gt;#map {\n",
       "                position:absolute;\n",
       "                top:0;\n",
       "                bottom:0;\n",
       "                right:0;\n",
       "                left:0;\n",
       "                }\n",
       "            &lt;/style&gt;\n",
       "\n",
       "            &lt;script&gt;\n",
       "                L_NO_TOUCH = false;\n",
       "                L_DISABLE_3D = false;\n",
       "            &lt;/script&gt;\n",
       "\n",
       "        \n",
       "    &lt;script src=&quot;https://cdn.jsdelivr.net/gh/python-visualization/folium@main/folium/templates/leaflet_heat.min.js&quot;&gt;&lt;/script&gt;\n",
       "&lt;/head&gt;\n",
       "&lt;body&gt;\n",
       "    \n",
       "    \n",
       "            &lt;div class=&quot;folium-map&quot; id=&quot;map_4b4e4cdc0b4439ead2c11ba691de88fd&quot; &gt;&lt;/div&gt;\n",
       "        \n",
       "&lt;/body&gt;\n",
       "&lt;script&gt;\n",
       "    \n",
       "    \n",
       "            var map_4b4e4cdc0b4439ead2c11ba691de88fd = L.map(\n",
       "                &quot;map_4b4e4cdc0b4439ead2c11ba691de88fd&quot;,\n",
       "                {\n",
       "                    center: [48.0, 5.0],\n",
       "                    crs: L.CRS.EPSG3857,\n",
       "                    ...{\n",
       "  &quot;zoom&quot;: 6,\n",
       "  &quot;zoomControl&quot;: true,\n",
       "  &quot;preferCanvas&quot;: false,\n",
       "}\n",
       "\n",
       "                }\n",
       "            );\n",
       "\n",
       "            \n",
       "\n",
       "        \n",
       "    \n",
       "            var tile_layer_bfec69bbc8d8d39af0464d23be22383a = L.tileLayer(\n",
       "                &quot;https://tile.openstreetmap.org/{z}/{x}/{y}.png&quot;,\n",
       "                {\n",
       "  &quot;minZoom&quot;: 0,\n",
       "  &quot;maxZoom&quot;: 19,\n",
       "  &quot;maxNativeZoom&quot;: 19,\n",
       "  &quot;noWrap&quot;: false,\n",
       "  &quot;attribution&quot;: &quot;\\u0026copy; \\u003ca href=\\&quot;https://www.openstreetmap.org/copyright\\&quot;\\u003eOpenStreetMap\\u003c/a\\u003e contributors&quot;,\n",
       "  &quot;subdomains&quot;: &quot;abc&quot;,\n",
       "  &quot;detectRetina&quot;: false,\n",
       "  &quot;tms&quot;: false,\n",
       "  &quot;opacity&quot;: 1,\n",
       "}\n",
       "\n",
       "            );\n",
       "        \n",
       "    \n",
       "            tile_layer_bfec69bbc8d8d39af0464d23be22383a.addTo(map_4b4e4cdc0b4439ead2c11ba691de88fd);\n",
       "        \n",
       "    \n",
       "            var heat_map_b2aee5847d451b77fa4b8a0671640f35 = L.heatLayer(\n",
       "                [[48.11241400751647, 4.5444511625835595, 0.9767598250993079], [48.1511411409248, 5.143608709150493, 1.244728660525151], [49.35324881579886, 4.5261967981885745, -0.4505958614969201], [47.14302534368785, 6.054804890072429, -0.5550737236008061], [47.89687918930899, 4.39890026228565, 2.5753431293527327], [46.92107565496744, 5.602196717747965, -1.0683674160446985], [49.1915665456289, 4.638648626738346, 0.9509311160641268], [48.34497526978141, 3.933937514887341, -0.6476683984578686], [46.639354014047115, 6.428116398133932, 1.0352277912615935], [47.71548771090931, 6.6738737858521, 0.7240497769584391], [48.37991109866752, 5.230855903081709, 0.32234077008052664], [48.33437281131892, 6.087200091990352, 1.0970067432146666], [47.123499757239145, 5.088350504147266, 0.5712582001681418], [48.39754752215518, 6.240801214580539, 1.7718095392105853], [48.13980649560074, 2.5507102889606625, 1.322633469943278], [48.36462739133883, 6.343442330431426, 2.1689284222066316], [46.09278268083203, 5.411967848067711, -0.3040118932295288], [48.84849292008134, 4.070396396101419, 1.0584666555456017], [46.0606275973954, 4.250240676149374, 0.1779432941179836], [48.09548284957383, 2.844565461947569, 0.9028100291213585], [47.75783138492938, 5.449327016007029, 1.6907800527321486], [48.24187894979462, 5.94878518539407, 0.23363447770872214], [48.179046345732154, 5.159278500370982, -0.10330823321307325], [48.14247792741318, 3.816113422191276, 0.652208729079615], [46.34523880017154, 3.4832599023614543, -0.16470264749674257], [47.71146849761307, 3.905328770986122, 1.1110226498090625], [47.64305109314424, 3.945074612604441, 0.2726095629948765], [46.36981536802035, 5.050653826338822, -1.571875220615444], [48.28009510985646, 5.430461116297233, 0.325271420976487], [47.88423243198043, 4.716180888101441, 0.10760139665071566], [46.887584177693185, 4.409407413532584, 3.456083350678005], [46.998030403808976, 4.1055836833809, 1.4782463362506624], [48.109997421508, 5.561987543045957, 2.9899267058638492], [49.265077594017356, 3.664726463751906, 1.8522984704620447], [48.26492288511878, 3.808009052397727, 2.0627375845322655], [48.75098128425897, 3.6050687336116387, 0.03870309109159731], [49.01107611424821, 4.719809245268594, 0.7299550487221026], [47.53958091669014, 4.69741157719397, 0.9526595635689163], [46.95925766700434, 5.84565548516381, 1.8273777472658475], [47.845244717885905, 4.188736506767561, 0.9541257416925926], [47.20191310430276, 7.102470231889331, 1.6184938528007433], [46.903474328186675, 4.4408356022278275, 1.9823446373563596], [48.48844133894054, 4.630623564689983, 1.7054949643258095], [48.08424967409128, 2.8265136546237097, 0.2466738709142109], [47.2774155323897, 5.328373148185828, 1.1752015332800907], [47.79077610271081, 6.091721649966066, 1.3130424880351217], [49.11639341339087, 7.313964307672157, 1.9412227764089156], [47.827566749411886, 6.630176960004573, 1.0792030575934226], [48.32528618046197, 3.2282811270123446, 2.4367228657566233], [46.90248836663347, 2.3472257505812273, 0.5732433756339415], [47.45019515056472, 5.885701582512478, 0.9667265405277609], [47.60549257520203, 5.782918637017877, 1.550260974627383], [48.19790306083508, 5.913939699948007, 0.15801261947009626], [50.03689386564397, 5.300961664168629, 2.634563066388196], [50.00567326381432, 3.6746466393952124, 0.7502312997157574], [48.79722076618738, 4.692297047660573, -0.029559250441846263], [49.42624988455726, 5.403555442502212, 0.8123474498618881], [44.69135528983496, 5.519696432623539, 1.0461776857081446], [48.09528452085503, 4.98171709242436, 1.9107699601705952], [48.32983325366472, 5.8236344394657875, 1.3178806780558876], [47.94580771617265, 4.683958248524044, 2.277392603594738], [49.1369929785463, 4.144859858724277, 2.650289102986364], [48.23713095606545, 3.619386187377363, 0.44824975851792714], [48.90287486143917, 3.1095704526020453, 2.5644392010528394], [48.7183121227496, 3.886027751631429, 1.5794067659037707], [46.90050882618517, 3.954041708747706, 0.851159573625241], [45.86284275978106, 4.408574585162712, -0.4882863849134438], [45.14763593798443, 4.442643134528203, -0.8010245278825221], [47.282854110577446, 5.462994519043628, -0.18880482547299104], [47.504902733673205, 6.494918903395302, 0.46036236816119136], [47.6816145658064, 4.029937235289822, 2.2462870132428376], [49.56327025632532, 6.135901979665849, 0.6840173447226812], [48.548307444427934, 5.789100547597563, 2.409381576107932], [47.744543347771874, 6.905194443963797, -0.6997436150587657], [50.35188333795874, 4.702184544992723, 0.1298932630016182], [45.68721725261376, 4.01022889536925, -0.5495085375641615], [47.97750605284878, 5.467140807159527, 1.217406565193575], [49.256806556311076, 5.328828291953803, 0.4604421504621944], [48.514611446440846, 5.900498442860434, 2.0913583675481027], [48.05893565140981, 3.837286174552043, 1.6471514807269418], [47.12856924051139, 4.6389689451745495, 2.2144176110250484], [47.412546933280346, 3.6493719716236, 1.0971536059015945], [47.435324033049575, 5.662964318017309, 0.8774748805929857], [48.60089706161419, 5.331281002630821, 1.9689141476231686], [48.0554831012128, 5.757286139618683, 1.3848676987587534], [46.55668212981871, 4.753947588457025, 0.43292551766930365], [48.55909459547816, 6.188755919866407, 2.2694583004643203], [46.33271940406395, 5.464610038752186, 1.4723298868318744], [49.357020592002456, 3.805327273086223, 1.9488741671019145], [48.35682846908288, 4.490884807054895, 1.2584613123355783], [47.92701229144673, 4.850347268022368, 0.10820800784179752], [48.76145860354338, 4.738207309560355, 0.8698519377216115], [48.19347671165485, 4.016854538259309, 3.143528780731465], [49.08954603778645, 4.091189846206399, 0.8458522894736553], [46.83682454320278, 3.5004340481763037, 1.6448046846938251], [46.754920661878245, 5.081821202889689, 2.3873977528159305], [47.6509049218021, 5.3419063044516495, 1.0189215860547371], [47.44511390946644, 3.6100815360379386, 0.5496152576930882], [46.75308709890795, 5.303152072073526, -0.09407661656385469], [45.618454194633344, 5.192116595261238, 0.1281630018301929]],\n",
       "                {\n",
       "  &quot;minOpacity&quot;: 0.5,\n",
       "  &quot;maxZoom&quot;: 18,\n",
       "  &quot;radius&quot;: 25,\n",
       "  &quot;blur&quot;: 15,\n",
       "}\n",
       "            );\n",
       "        \n",
       "    \n",
       "            heat_map_b2aee5847d451b77fa4b8a0671640f35.addTo(map_4b4e4cdc0b4439ead2c11ba691de88fd);\n",
       "        \n",
       "&lt;/script&gt;\n",
       "&lt;/html&gt;\" style=\"position:absolute;width:100%;height:100%;left:0;top:0;border:none !important;\" allowfullscreen webkitallowfullscreen mozallowfullscreen></iframe></div></div>"
      ],
      "text/plain": [
       "<folium.folium.Map at 0x7fef582e52b0>"
      ]
     },
     "execution_count": 2,
     "metadata": {},
     "output_type": "execute_result"
    }
   ],
   "source": [
    "import folium\n",
    "from folium.plugins import HeatMap\n",
    "\n",
    "m = folium.Map([48.0, 5.0], zoom_start=6)\n",
    "\n",
    "HeatMap(data).add_to(m)\n",
    "\n",
    "m"
   ]
  }
 ],
 "metadata": {
  "jupytext": {
   "text_representation": {
    "extension": ".mystnb",
    "format_name": "myst"
   }
  },
  "language_info": {
   "codemirror_mode": {
    "name": "ipython",
    "version": 3
   },
   "file_extension": ".py",
   "mimetype": "text/x-python",
   "name": "python",
   "nbconvert_exporter": "python",
   "pygments_lexer": "ipython3",
   "version": "3.12.11"
  }
 },
 "nbformat": 4,
 "nbformat_minor": 5
}
