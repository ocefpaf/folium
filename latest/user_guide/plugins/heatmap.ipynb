{
 "cells": [
  {
   "cell_type": "markdown",
   "id": "58d72267",
   "metadata": {},
   "source": [
    "## Heatmap"
   ]
  },
  {
   "cell_type": "code",
   "execution_count": 1,
   "id": "e0482769",
   "metadata": {
    "execution": {
     "iopub.execute_input": "2023-11-06T17:30:28.122724Z",
     "iopub.status.busy": "2023-11-06T17:30:28.122409Z",
     "iopub.status.idle": "2023-11-06T17:30:28.184988Z",
     "shell.execute_reply": "2023-11-06T17:30:28.184461Z"
    }
   },
   "outputs": [],
   "source": [
    "import numpy as np\n",
    "\n",
    "data = (\n",
    "    np.random.normal(size=(100, 3)) * np.array([[1, 1, 1]]) + np.array([[48, 5, 1]])\n",
    ").tolist()"
   ]
  },
  {
   "cell_type": "code",
   "execution_count": 2,
   "id": "d7099cac",
   "metadata": {
    "execution": {
     "iopub.execute_input": "2023-11-06T17:30:28.188817Z",
     "iopub.status.busy": "2023-11-06T17:30:28.187827Z",
     "iopub.status.idle": "2023-11-06T17:30:28.680312Z",
     "shell.execute_reply": "2023-11-06T17:30:28.679864Z"
    }
   },
   "outputs": [
    {
     "data": {
      "text/html": [
       "<div style=\"width:100%;\"><div style=\"position:relative;width:100%;height:0;padding-bottom:60%;\"><span style=\"color:#565656\">Make this Notebook Trusted to load map: File -> Trust Notebook</span><iframe srcdoc=\"&lt;!DOCTYPE html&gt;\n",
       "&lt;html&gt;\n",
       "&lt;head&gt;\n",
       "    \n",
       "    &lt;meta http-equiv=&quot;content-type&quot; content=&quot;text/html; charset=UTF-8&quot; /&gt;\n",
       "    \n",
       "        &lt;script&gt;\n",
       "            L_NO_TOUCH = false;\n",
       "            L_DISABLE_3D = false;\n",
       "        &lt;/script&gt;\n",
       "    \n",
       "    &lt;style&gt;html, body {width: 100%;height: 100%;margin: 0;padding: 0;}&lt;/style&gt;\n",
       "    &lt;style&gt;#map {position:absolute;top:0;bottom:0;right:0;left:0;}&lt;/style&gt;\n",
       "    &lt;script src=&quot;https://cdn.jsdelivr.net/npm/leaflet@1.9.3/dist/leaflet.js&quot;&gt;&lt;/script&gt;\n",
       "    &lt;script src=&quot;https://code.jquery.com/jquery-3.7.1.min.js&quot;&gt;&lt;/script&gt;\n",
       "    &lt;script src=&quot;https://cdn.jsdelivr.net/npm/bootstrap@5.2.2/dist/js/bootstrap.bundle.min.js&quot;&gt;&lt;/script&gt;\n",
       "    &lt;script src=&quot;https://cdnjs.cloudflare.com/ajax/libs/Leaflet.awesome-markers/2.0.2/leaflet.awesome-markers.js&quot;&gt;&lt;/script&gt;\n",
       "    &lt;link rel=&quot;stylesheet&quot; href=&quot;https://cdn.jsdelivr.net/npm/leaflet@1.9.3/dist/leaflet.css&quot;/&gt;\n",
       "    &lt;link rel=&quot;stylesheet&quot; href=&quot;https://cdn.jsdelivr.net/npm/bootstrap@5.2.2/dist/css/bootstrap.min.css&quot;/&gt;\n",
       "    &lt;link rel=&quot;stylesheet&quot; href=&quot;https://netdna.bootstrapcdn.com/bootstrap/3.0.0/css/bootstrap.min.css&quot;/&gt;\n",
       "    &lt;link rel=&quot;stylesheet&quot; href=&quot;https://cdn.jsdelivr.net/npm/@fortawesome/fontawesome-free@6.2.0/css/all.min.css&quot;/&gt;\n",
       "    &lt;link rel=&quot;stylesheet&quot; href=&quot;https://cdnjs.cloudflare.com/ajax/libs/Leaflet.awesome-markers/2.0.2/leaflet.awesome-markers.css&quot;/&gt;\n",
       "    &lt;link rel=&quot;stylesheet&quot; href=&quot;https://cdn.jsdelivr.net/gh/python-visualization/folium/folium/templates/leaflet.awesome.rotate.min.css&quot;/&gt;\n",
       "    \n",
       "            &lt;meta name=&quot;viewport&quot; content=&quot;width=device-width,\n",
       "                initial-scale=1.0, maximum-scale=1.0, user-scalable=no&quot; /&gt;\n",
       "            &lt;style&gt;\n",
       "                #map_f0d8965b0f920d1559b696b4da12e738 {\n",
       "                    position: relative;\n",
       "                    width: 100.0%;\n",
       "                    height: 100.0%;\n",
       "                    left: 0.0%;\n",
       "                    top: 0.0%;\n",
       "                }\n",
       "                .leaflet-container { font-size: 1rem; }\n",
       "            &lt;/style&gt;\n",
       "        \n",
       "    &lt;script src=&quot;https://cdn.jsdelivr.net/gh/python-visualization/folium@main/folium/templates/leaflet_heat.min.js&quot;&gt;&lt;/script&gt;\n",
       "&lt;/head&gt;\n",
       "&lt;body&gt;\n",
       "    \n",
       "    \n",
       "            &lt;div class=&quot;folium-map&quot; id=&quot;map_f0d8965b0f920d1559b696b4da12e738&quot; &gt;&lt;/div&gt;\n",
       "        \n",
       "&lt;/body&gt;\n",
       "&lt;script&gt;\n",
       "    \n",
       "    \n",
       "            var map_f0d8965b0f920d1559b696b4da12e738 = L.map(\n",
       "                &quot;map_f0d8965b0f920d1559b696b4da12e738&quot;,\n",
       "                {\n",
       "                    center: [48.0, 5.0],\n",
       "                    crs: L.CRS.EPSG3857,\n",
       "                    zoom: 6,\n",
       "                    zoomControl: true,\n",
       "                    preferCanvas: false,\n",
       "                }\n",
       "            );\n",
       "\n",
       "            \n",
       "\n",
       "        \n",
       "    \n",
       "            var tile_layer_241feb91a5b9eb53c02ce7d3df1ef3a9 = L.tileLayer(\n",
       "                &quot;https://{s}.tile.openstreetmap.org/{z}/{x}/{y}.png&quot;,\n",
       "                {&quot;attribution&quot;: &quot;Data by \\u0026copy; \\u003ca target=\\&quot;_blank\\&quot; href=\\&quot;http://openstreetmap.org\\&quot;\\u003eOpenStreetMap\\u003c/a\\u003e, under \\u003ca target=\\&quot;_blank\\&quot; href=\\&quot;http://www.openstreetmap.org/copyright\\&quot;\\u003eODbL\\u003c/a\\u003e.&quot;, &quot;detectRetina&quot;: false, &quot;maxNativeZoom&quot;: 18, &quot;maxZoom&quot;: 18, &quot;minZoom&quot;: 0, &quot;noWrap&quot;: false, &quot;opacity&quot;: 1, &quot;subdomains&quot;: &quot;abc&quot;, &quot;tms&quot;: false}\n",
       "            );\n",
       "        \n",
       "    \n",
       "                tile_layer_241feb91a5b9eb53c02ce7d3df1ef3a9.addTo(map_f0d8965b0f920d1559b696b4da12e738);\n",
       "    \n",
       "            var heat_map_221bbd17d024647202c2bc6e60192efa = L.heatLayer(\n",
       "                [[47.53019841149031, 5.195369408024195, 1.4511313060925235], [47.217444526819556, 4.098117350051264, 0.5029739813718224], [47.166694459368685, 5.135248552520526, -0.3275942781076222], [48.29057813360044, 4.774967484652193, 1.1796728060790482], [48.48275710810686, 6.772494623358302, 2.0564544426579827], [49.464042663761504, 6.337196146529771, 1.7235415088925448], [49.698719849316774, 4.66739380529583, 0.22215582670875522], [47.01672652837719, 6.493437206562463, 1.6424377815724962], [49.235248207093456, 5.528041710075086, 2.5167542897812596], [47.953218260780524, 5.353365467213084, 0.14896038999514372], [49.049757569685475, 4.295625116677396, 0.7018249551236835], [47.03488371717382, 6.181590950494819, 1.4559363556004965], [48.391997257562004, 3.3924286730596727, 1.2281560355725722], [46.702164961111194, 6.0427004274909315, 0.718179969191669], [46.61467981840194, 5.116977316246317, 0.5213192719993973], [47.36229110117465, 4.2961268547125515, 0.007885667306301802], [47.68826350486137, 5.09120936611434, 1.5125462450857148], [46.76402159940932, 4.5021762360620885, 0.5278277359121548], [46.45174823218042, 5.547197228682989, 0.5467197538397023], [50.8228772618302, 4.351569278147035, 0.657484017032814], [46.54560675282258, 5.033991657417523, 1.917475579064111], [48.485219193019596, 5.221515691744028, 1.4767784486091555], [48.49824083401976, 6.201832636628551, 1.023328066616772], [49.81373205032678, 6.39993552946464, -0.7292010714324402], [47.6195915164681, 5.500079131401372, -0.12207442986292971], [48.54616703218016, 6.12210927875963, 0.7572958447435604], [46.78864455584057, 5.101718300073691, 1.7924688912661493], [47.6967977370651, 6.48950787869139, 0.2963902620754322], [46.77670967353396, 4.8589355275239825, 1.1354414812303064], [48.33567892542462, 5.2661987595511555, 0.7123604061895876], [48.98499319031586, 4.360510666123287, 0.45944936767121725], [48.68741954798595, 4.514486934195664, 1.2622712033026566], [47.88034860216422, 7.254808102486123, -0.662083041172191], [46.68054172301339, 6.0156046944933275, 0.8929970879331406], [47.95979824274703, 2.6537036193916075, 1.257561559768812], [46.531228814705855, 4.0050122020812315, 0.15568797062575268], [48.34297744643527, 3.7439934426712203, -1.334713214923497], [47.513446633007945, 4.616937123976671, 0.5196168483640196], [47.989195864367176, 5.136831792123867, 0.8991079307249916], [47.844515889071396, 4.726496469783028, -0.11812622888913737], [47.212481032503675, 5.3313115968929115, 1.2300608281533836], [47.70353858396426, 6.265510828916682, -0.43465179569307755], [48.001090800039556, 5.554419593251264, 0.940022326545689], [46.751968049788154, 4.612947242408683, 0.3219083392058846], [47.66815749173011, 5.317717507841927, 0.5698345640879384], [47.73579557823191, 5.213804309405418, 0.8939933112619229], [49.938867319776755, 6.192760719931481, 1.8286851544207554], [48.15217499114167, 4.746545882580333, 0.9949035816697086], [49.48189983345604, 4.602346637566668, 0.5748574481297895], [48.52509572567013, 7.186063656332035, 2.1669869024085386], [48.9961341878571, 5.1213916598807145, 1.5071391150649234], [49.84877325067826, 4.653971589645267, 0.019929007440086965], [47.819752395641785, 6.041768568851041, 2.2329740896571635], [48.81523260378238, 7.031783068162502, 0.6480272502838129], [48.48391248436059, 4.397067419259807, 0.34498083037273364], [47.77731756004133, 4.8626962810512415, 1.0126300038101137], [47.45605702400656, 4.590514603274054, 1.8227472525540123], [50.22873786614162, 5.09170445188241, 2.0822889865288383], [47.44935381471611, 4.0184089126574785, 1.9801297756998506], [47.3995291809337, 4.429965376255989, 1.6819103214546522], [49.47737346221104, 4.526466618669147, -0.35943616993234206], [47.682473897767764, 2.82238807802355, 0.17644563377361588], [49.42514468507456, 4.735351384736618, -0.111443818626628], [48.058866064583576, 5.370936343463371, 0.5816183451925603], [47.707343760843564, 4.278594595536242, 0.6122189249111741], [49.0953301050461, 4.259200224500998, 0.6919198402800519], [48.349415117308354, 5.6877171043962536, 1.4984201133134554], [49.551677622385114, 4.8364718957090105, 2.2278226119472526], [46.752443119449865, 5.72943256539897, -0.7784433090409335], [46.150956294916845, 7.388990087132427, 0.0146409037005919], [48.056605933233485, 5.028442000263263, 0.24688410282553352], [47.62225112659536, 6.151303439003124, -2.37229415980139], [47.26387147718125, 6.303377660923694, 1.6236723169935576], [48.29940428612026, 5.383779170615298, -0.021324128494082606], [48.96173081417178, 5.152255108406606, 1.9487412566508877], [48.11425642264031, 5.100359964556942, 1.702289828443202], [47.907008085074686, 4.740712342501333, 2.5732378564457337], [47.83021158897301, 5.663983637122696, -0.8462833874455746], [46.90713294581481, 4.544681949409007, 1.000847806178536], [47.05173087477301, 3.970079470403479, 1.2250225311125036], [50.56275456692274, 5.265401538442289, 0.9761398352828543], [48.433038019597056, 4.627306244915393, 0.3077667453941145], [49.203180030724205, 4.68360736200824, 1.5866975836316661], [46.7107794374642, 5.575809286455501, 1.24766644219959], [47.66329460807496, 5.387572009934688, 0.007716027453005703], [46.548807252052825, 5.9297582760255185, 2.3377458506871465], [50.24496210959184, 5.051987129156277, 0.9273471596408994], [48.50319479470055, 4.770785986648052, 1.4576976565697513], [48.02679116069772, 3.075459348028464, 1.87167316397298], [47.02565560363863, 5.030359622661971, 1.1818853795672908], [48.840717764583424, 4.410461275220118, 1.1827479270082126], [48.83391644735485, 5.131922437586809, 0.3807893727847379], [48.74836879685429, 4.934284565693229, 0.5765384018097747], [47.91052868109672, 5.605463169807086, 1.8317333425486315], [47.622240005275714, 3.9609132151527535, 1.120307956060699], [47.87796596147619, 5.27823288398736, 0.1665047800735855], [46.93941713847459, 4.722483818118857, 1.3083270745376516], [47.182395803835846, 4.715955533680907, 2.9147008742820217], [48.02741701245063, 5.291284555387821, 1.2651552778298665], [49.309534620871474, 4.043313776827372, 2.0185728960459732]],\n",
       "                {&quot;blur&quot;: 15, &quot;maxZoom&quot;: 18, &quot;minOpacity&quot;: 0.5, &quot;radius&quot;: 25}\n",
       "            );\n",
       "        \n",
       "    \n",
       "                heat_map_221bbd17d024647202c2bc6e60192efa.addTo(map_f0d8965b0f920d1559b696b4da12e738);\n",
       "&lt;/script&gt;\n",
       "&lt;/html&gt;\" style=\"position:absolute;width:100%;height:100%;left:0;top:0;border:none !important;\" allowfullscreen webkitallowfullscreen mozallowfullscreen></iframe></div></div>"
      ],
      "text/plain": [
       "<folium.folium.Map at 0x7fa298df8c50>"
      ]
     },
     "execution_count": 2,
     "metadata": {},
     "output_type": "execute_result"
    }
   ],
   "source": [
    "import folium\n",
    "from folium.plugins import HeatMap\n",
    "\n",
    "m = folium.Map([48.0, 5.0], zoom_start=6)\n",
    "\n",
    "HeatMap(data).add_to(m)\n",
    "\n",
    "m"
   ]
  }
 ],
 "metadata": {
  "jupytext": {
   "text_representation": {
    "extension": ".mystnb",
    "format_name": "myst"
   }
  },
  "language_info": {
   "codemirror_mode": {
    "name": "ipython",
    "version": 3
   },
   "file_extension": ".py",
   "mimetype": "text/x-python",
   "name": "python",
   "nbconvert_exporter": "python",
   "pygments_lexer": "ipython3",
   "version": "3.12.0"
  }
 },
 "nbformat": 4,
 "nbformat_minor": 5
}
