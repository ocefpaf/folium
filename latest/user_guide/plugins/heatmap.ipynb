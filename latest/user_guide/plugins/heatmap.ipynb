{
 "cells": [
  {
   "cell_type": "markdown",
   "id": "04168d0b",
   "metadata": {},
   "source": [
    "## Heatmap"
   ]
  },
  {
   "cell_type": "code",
   "execution_count": 1,
   "id": "57dee897",
   "metadata": {
    "execution": {
     "iopub.execute_input": "2023-10-04T15:48:22.865776Z",
     "iopub.status.busy": "2023-10-04T15:48:22.865556Z",
     "iopub.status.idle": "2023-10-04T15:48:22.944340Z",
     "shell.execute_reply": "2023-10-04T15:48:22.943603Z"
    }
   },
   "outputs": [],
   "source": [
    "import numpy as np\n",
    "\n",
    "data = (\n",
    "    np.random.normal(size=(100, 3)) * np.array([[1, 1, 1]]) + np.array([[48, 5, 1]])\n",
    ").tolist()"
   ]
  },
  {
   "cell_type": "code",
   "execution_count": 2,
   "id": "6dfb8d45",
   "metadata": {
    "execution": {
     "iopub.execute_input": "2023-10-04T15:48:22.949502Z",
     "iopub.status.busy": "2023-10-04T15:48:22.948211Z",
     "iopub.status.idle": "2023-10-04T15:48:23.519687Z",
     "shell.execute_reply": "2023-10-04T15:48:23.518839Z"
    }
   },
   "outputs": [
    {
     "data": {
      "text/html": [
       "<div style=\"width:100%;\"><div style=\"position:relative;width:100%;height:0;padding-bottom:60%;\"><span style=\"color:#565656\">Make this Notebook Trusted to load map: File -> Trust Notebook</span><iframe srcdoc=\"&lt;!DOCTYPE html&gt;\n",
       "&lt;html&gt;\n",
       "&lt;head&gt;\n",
       "    \n",
       "    &lt;meta http-equiv=&quot;content-type&quot; content=&quot;text/html; charset=UTF-8&quot; /&gt;\n",
       "    \n",
       "        &lt;script&gt;\n",
       "            L_NO_TOUCH = false;\n",
       "            L_DISABLE_3D = false;\n",
       "        &lt;/script&gt;\n",
       "    \n",
       "    &lt;style&gt;html, body {width: 100%;height: 100%;margin: 0;padding: 0;}&lt;/style&gt;\n",
       "    &lt;style&gt;#map {position:absolute;top:0;bottom:0;right:0;left:0;}&lt;/style&gt;\n",
       "    &lt;script src=&quot;https://cdn.jsdelivr.net/npm/leaflet@1.9.3/dist/leaflet.js&quot;&gt;&lt;/script&gt;\n",
       "    &lt;script src=&quot;https://code.jquery.com/jquery-1.12.4.min.js&quot;&gt;&lt;/script&gt;\n",
       "    &lt;script src=&quot;https://cdn.jsdelivr.net/npm/bootstrap@5.2.2/dist/js/bootstrap.bundle.min.js&quot;&gt;&lt;/script&gt;\n",
       "    &lt;script src=&quot;https://cdnjs.cloudflare.com/ajax/libs/Leaflet.awesome-markers/2.0.2/leaflet.awesome-markers.js&quot;&gt;&lt;/script&gt;\n",
       "    &lt;link rel=&quot;stylesheet&quot; href=&quot;https://cdn.jsdelivr.net/npm/leaflet@1.9.3/dist/leaflet.css&quot;/&gt;\n",
       "    &lt;link rel=&quot;stylesheet&quot; href=&quot;https://cdn.jsdelivr.net/npm/bootstrap@5.2.2/dist/css/bootstrap.min.css&quot;/&gt;\n",
       "    &lt;link rel=&quot;stylesheet&quot; href=&quot;https://netdna.bootstrapcdn.com/bootstrap/3.0.0/css/bootstrap.min.css&quot;/&gt;\n",
       "    &lt;link rel=&quot;stylesheet&quot; href=&quot;https://cdn.jsdelivr.net/npm/@fortawesome/fontawesome-free@6.2.0/css/all.min.css&quot;/&gt;\n",
       "    &lt;link rel=&quot;stylesheet&quot; href=&quot;https://cdnjs.cloudflare.com/ajax/libs/Leaflet.awesome-markers/2.0.2/leaflet.awesome-markers.css&quot;/&gt;\n",
       "    &lt;link rel=&quot;stylesheet&quot; href=&quot;https://cdn.jsdelivr.net/gh/python-visualization/folium/folium/templates/leaflet.awesome.rotate.min.css&quot;/&gt;\n",
       "    \n",
       "            &lt;meta name=&quot;viewport&quot; content=&quot;width=device-width,\n",
       "                initial-scale=1.0, maximum-scale=1.0, user-scalable=no&quot; /&gt;\n",
       "            &lt;style&gt;\n",
       "                #map_d2ae88ec987af9fbb4c5257bb1d5e36d {\n",
       "                    position: relative;\n",
       "                    width: 100.0%;\n",
       "                    height: 100.0%;\n",
       "                    left: 0.0%;\n",
       "                    top: 0.0%;\n",
       "                }\n",
       "                .leaflet-container { font-size: 1rem; }\n",
       "            &lt;/style&gt;\n",
       "        \n",
       "    &lt;script src=&quot;https://cdn.jsdelivr.net/gh/python-visualization/folium@main/folium/templates/leaflet_heat.min.js&quot;&gt;&lt;/script&gt;\n",
       "&lt;/head&gt;\n",
       "&lt;body&gt;\n",
       "    \n",
       "    \n",
       "            &lt;div class=&quot;folium-map&quot; id=&quot;map_d2ae88ec987af9fbb4c5257bb1d5e36d&quot; &gt;&lt;/div&gt;\n",
       "        \n",
       "&lt;/body&gt;\n",
       "&lt;script&gt;\n",
       "    \n",
       "    \n",
       "            var map_d2ae88ec987af9fbb4c5257bb1d5e36d = L.map(\n",
       "                &quot;map_d2ae88ec987af9fbb4c5257bb1d5e36d&quot;,\n",
       "                {\n",
       "                    center: [48.0, 5.0],\n",
       "                    crs: L.CRS.EPSG3857,\n",
       "                    zoom: 6,\n",
       "                    zoomControl: true,\n",
       "                    preferCanvas: false,\n",
       "                }\n",
       "            );\n",
       "\n",
       "            \n",
       "\n",
       "        \n",
       "    \n",
       "            var tile_layer_4c9f8b761444ec5dfbb8105018c51e7a = L.tileLayer(\n",
       "                &quot;https://stamen-tiles-{s}.a.ssl.fastly.net/toner/{z}/{x}/{y}.png&quot;,\n",
       "                {&quot;attribution&quot;: &quot;Map tiles by \\u003ca target=\\&quot;_blank\\&quot; href=\\&quot;http://stamen.com\\&quot;\\u003eStamen Design\\u003c/a\\u003e, under \\u003ca target=\\&quot;_blank\\&quot; href=\\&quot;http://creativecommons.org/licenses/by/3.0\\&quot;\\u003eCC BY 3.0\\u003c/a\\u003e. Data by \\u0026copy; \\u003ca target=\\&quot;_blank\\&quot; href=\\&quot;http://openstreetmap.org\\&quot;\\u003eOpenStreetMap\\u003c/a\\u003e, under \\u003ca target=\\&quot;_blank\\&quot; href=\\&quot;http://www.openstreetmap.org/copyright\\&quot;\\u003eODbL\\u003c/a\\u003e.&quot;, &quot;detectRetina&quot;: false, &quot;maxNativeZoom&quot;: 18, &quot;maxZoom&quot;: 18, &quot;minZoom&quot;: 0, &quot;noWrap&quot;: false, &quot;opacity&quot;: 1, &quot;subdomains&quot;: &quot;abc&quot;, &quot;tms&quot;: false}\n",
       "            );\n",
       "        \n",
       "    \n",
       "                tile_layer_4c9f8b761444ec5dfbb8105018c51e7a.addTo(map_d2ae88ec987af9fbb4c5257bb1d5e36d);\n",
       "    \n",
       "            var heat_map_0dedd3c8afd08bf28030fb2485bbf888 = L.heatLayer(\n",
       "                [[47.03869643715674, 4.658407203505784, 1.3446268271183974], [46.37569028553377, 6.46156407352322, -0.3928195569321744], [48.40400142732995, 4.214119121185095, 1.138526316030565], [47.16675551152297, 5.273637493862485, 0.7427108603167254], [47.41902299461015, 5.756938301058927, 1.0225783161338415], [48.010482549567065, 4.818005376894391, 1.0845686297511623], [47.39853754448668, 4.843486232503463, 1.4690570219857846], [48.28717658978016, 6.551923428887016, 1.0952893147671077], [48.75727541405045, 4.186238919229867, 0.4947528499318865], [48.02142323198681, 3.8469250138895834, 0.457920041870421], [48.05587100252807, 3.878216297329713, 1.7856476906705523], [47.85654025381173, 5.09739233197124, 1.2064562798766598], [46.768342020014195, 7.525291570690843, -0.7135741006917466], [48.83764557995462, 3.4906362544281864, 0.5326941797198655], [46.95968807066474, 5.701122261743029, 1.1571462172325648], [45.22448124106218, 4.994301321672956, -0.6372236720084907], [47.304436637359785, 4.319975201330208, 2.319626231166687], [49.39993009725953, 5.977216680048741, 0.2980808609503506], [47.29405366023899, 3.549532725338915, 3.33767176911811], [47.72334817816612, 3.974930771182783, 0.6753257205893305], [48.68220129150323, 4.401153008249758, 3.286623277906585], [48.68453977415615, 5.214395283426476, -0.5194188336829066], [48.571768184658204, 3.6073092107099285, 0.6553003397493495], [47.682681486836444, 6.757894919039801, 1.0538593248516817], [47.01545795498324, 6.156688064197063, 1.4165358530698808], [49.25646536840745, 2.8714532898490726, -0.032425432476411276], [46.19990047072441, 3.7219596391728675, 0.5486638695267154], [47.38295430453758, 5.592487730906701, -0.7845053950352412], [46.966310189300096, 5.630082848967399, -0.6669340665706078], [47.71922924611097, 3.6882060556858853, 1.999750088651668], [49.063750034376596, 4.893967614366246, 0.8625757510746273], [47.67103961305633, 4.571278874154436, -0.20065016869773467], [46.9687212031314, 5.682544810737896, 1.6002336881735615], [47.47947260459563, 4.748845601917111, -0.8839311063346953], [47.97738000134711, 5.008804866327407, 0.7440271219827197], [47.48603223082611, 4.863798112808452, 0.9238310029252792], [46.60439210870629, 4.942713582843022, 3.293712335198385], [47.4315781487447, 5.400959232155827, -0.1892513601427943], [47.93783982157089, 6.376296087887644, 0.8412440117201353], [49.33741516709481, 5.256932185654942, 0.22050606308322396], [48.85761598499508, 4.95587036661271, 0.20452643446262286], [49.297131935686814, 5.586009463679616, 2.351592624732098], [49.70789481038461, 5.326887213474524, -0.04515349903934407], [49.117960888779336, 3.1548224870829955, -0.32649194281831795], [48.486276305941864, 4.824355349959909, -1.292702057974862], [49.55739888238278, 5.924348142691443, 2.9748611344300233], [47.84849370166577, 3.971678912485941, 0.6797024596488054], [47.65645861407357, 5.7254465069967635, 2.4655747427102646], [48.03658781977491, 5.135291421157483, 1.1055723879860666], [47.90462241967449, 2.882616007970919, 0.28934049271922535], [46.411544193915255, 4.297439055908412, 1.2800872597264121], [47.84642230624884, 4.992928794037738, 1.4530177208041464], [48.646220138989264, 6.656933382399837, 0.5321617792911997], [48.317271217875735, 5.94335410163537, 1.4948733665824325], [48.78284188425144, 4.373728678240786, 0.9072804500855827], [48.23970886571785, 5.687020136084968, 0.30145793116626507], [48.73106224588539, 4.153147232448541, 2.43417282818971], [46.23631904411558, 5.125557127935872, 1.1533594708249093], [48.017105346307744, 5.362487164422229, 1.0602380431818774], [47.864133502162716, 3.682149795027582, 1.4158321300913754], [47.88402365579455, 3.832675052058334, -0.480009881482919], [49.57715465240808, 5.523053462333514, -0.06587122327708417], [48.19151420732824, 4.370156551663678, 0.07877170020583191], [46.950399964415695, 5.510661432756061, 1.1178311086441022], [47.55539378462334, 3.8902315500188704, 0.19197754466377448], [48.30688397411878, 3.9202765717472547, 1.3269096316889726], [46.89371597137357, 5.64078800631498, -0.0028371217238425395], [49.14976076755624, 5.6181140732695996, 0.20461555331279213], [47.80244088494493, 6.4626858626790895, 1.3249795987940645], [47.75772457546995, 3.1383896191738776, 0.7173661054271805], [47.97068348906665, 6.134376133323293, 0.8918387034517141], [48.88069089204057, 4.429712776382665, -0.9667671050898896], [47.99139964388244, 4.832288866378423, 0.7956296305145184], [47.62716298074543, 6.595210225403461, 2.2293406726152014], [49.163653222115656, 4.101293570598386, 1.5110667941364504], [49.73725341968272, 4.426086605597043, -0.17110932932022327], [49.58096463904807, 6.622903590255934, -0.4725834393472257], [48.01892836754893, 5.39173273148656, 1.7538669425914197], [47.89198686015146, 4.894432247201513, 2.101191931770208], [48.760290104844394, 4.218323614505357, 0.0467202875584567], [49.16518823440013, 6.107779564680916, 1.3662399868925077], [48.267029722096844, 5.480133343607548, 1.0666871588808842], [46.85979208199387, 5.569965124413998, 1.221929183157838], [47.421741628177855, 6.781139088702333, 1.9179302926402615], [47.756856000692075, 4.845121270935678, 1.0025453758274485], [46.71827369926179, 5.764075641966362, 0.7970537692252484], [48.61375797166588, 4.373151521389802, 1.4332277106509805], [47.75272391861201, 3.5927845456538687, 2.9707122253357694], [49.4737447199341, 2.516427874862378, 0.841285737574635], [46.675307244008614, 5.594001739567812, 1.2958573748088855], [47.429147723576286, 4.961192058048859, 0.02577130670002359], [46.616651728577, 4.527821734730437, 2.001772980797017], [46.78833951036682, 5.254602986162826, 0.9682043198476493], [47.29790911154263, 4.760863941746871, 0.5569937266704015], [48.12768878925535, 4.86229724875819, 0.9621257369742489], [48.55202985743601, 4.822307738750597, 1.1481804842784422], [48.82646976597558, 3.756373216733082, 0.5884927501036858], [48.36626654674621, 3.664195584486995, -0.16802900569369483], [46.23556331777917, 4.230562512563807, -0.5984548349688386], [47.2113064730943, 5.386154774423745, 2.6531898158302156]],\n",
       "                {&quot;blur&quot;: 15, &quot;maxZoom&quot;: 18, &quot;minOpacity&quot;: 0.5, &quot;radius&quot;: 25}\n",
       "            );\n",
       "        \n",
       "    \n",
       "                heat_map_0dedd3c8afd08bf28030fb2485bbf888.addTo(map_d2ae88ec987af9fbb4c5257bb1d5e36d);\n",
       "&lt;/script&gt;\n",
       "&lt;/html&gt;\" style=\"position:absolute;width:100%;height:100%;left:0;top:0;border:none !important;\" allowfullscreen webkitallowfullscreen mozallowfullscreen></iframe></div></div>"
      ],
      "text/plain": [
       "<folium.folium.Map at 0x7f5c80253a50>"
      ]
     },
     "execution_count": 2,
     "metadata": {},
     "output_type": "execute_result"
    }
   ],
   "source": [
    "import folium\n",
    "from folium.plugins import HeatMap\n",
    "\n",
    "m = folium.Map([48.0, 5.0], tiles=\"stamentoner\", zoom_start=6)\n",
    "\n",
    "HeatMap(data).add_to(m)\n",
    "\n",
    "m"
   ]
  }
 ],
 "metadata": {
  "jupytext": {
   "text_representation": {
    "extension": ".mystnb",
    "format_name": "myst"
   }
  },
  "language_info": {
   "codemirror_mode": {
    "name": "ipython",
    "version": 3
   },
   "file_extension": ".py",
   "mimetype": "text/x-python",
   "name": "python",
   "nbconvert_exporter": "python",
   "pygments_lexer": "ipython3",
   "version": "3.11.6"
  }
 },
 "nbformat": 4,
 "nbformat_minor": 5
}
