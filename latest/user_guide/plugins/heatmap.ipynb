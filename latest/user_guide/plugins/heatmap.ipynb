{
 "cells": [
  {
   "cell_type": "markdown",
   "id": "b9ef5fe9",
   "metadata": {},
   "source": [
    "## Heatmap"
   ]
  },
  {
   "cell_type": "code",
   "execution_count": 1,
   "id": "2e550436",
   "metadata": {
    "execution": {
     "iopub.execute_input": "2023-09-05T17:07:35.422903Z",
     "iopub.status.busy": "2023-09-05T17:07:35.422507Z",
     "iopub.status.idle": "2023-09-05T17:07:35.500490Z",
     "shell.execute_reply": "2023-09-05T17:07:35.499812Z"
    }
   },
   "outputs": [],
   "source": [
    "import numpy as np\n",
    "\n",
    "data = (\n",
    "    np.random.normal(size=(100, 3)) * np.array([[1, 1, 1]]) + np.array([[48, 5, 1]])\n",
    ").tolist()"
   ]
  },
  {
   "cell_type": "code",
   "execution_count": 2,
   "id": "d99fd090",
   "metadata": {
    "execution": {
     "iopub.execute_input": "2023-09-05T17:07:35.505569Z",
     "iopub.status.busy": "2023-09-05T17:07:35.504391Z",
     "iopub.status.idle": "2023-09-05T17:07:36.115274Z",
     "shell.execute_reply": "2023-09-05T17:07:36.114608Z"
    }
   },
   "outputs": [
    {
     "data": {
      "text/html": [
       "<div style=\"width:100%;\"><div style=\"position:relative;width:100%;height:0;padding-bottom:60%;\"><span style=\"color:#565656\">Make this Notebook Trusted to load map: File -> Trust Notebook</span><iframe srcdoc=\"&lt;!DOCTYPE html&gt;\n",
       "&lt;html&gt;\n",
       "&lt;head&gt;\n",
       "    \n",
       "    &lt;meta http-equiv=&quot;content-type&quot; content=&quot;text/html; charset=UTF-8&quot; /&gt;\n",
       "    \n",
       "        &lt;script&gt;\n",
       "            L_NO_TOUCH = false;\n",
       "            L_DISABLE_3D = false;\n",
       "        &lt;/script&gt;\n",
       "    \n",
       "    &lt;style&gt;html, body {width: 100%;height: 100%;margin: 0;padding: 0;}&lt;/style&gt;\n",
       "    &lt;style&gt;#map {position:absolute;top:0;bottom:0;right:0;left:0;}&lt;/style&gt;\n",
       "    &lt;script src=&quot;https://cdn.jsdelivr.net/npm/leaflet@1.9.3/dist/leaflet.js&quot;&gt;&lt;/script&gt;\n",
       "    &lt;script src=&quot;https://code.jquery.com/jquery-1.12.4.min.js&quot;&gt;&lt;/script&gt;\n",
       "    &lt;script src=&quot;https://cdn.jsdelivr.net/npm/bootstrap@5.2.2/dist/js/bootstrap.bundle.min.js&quot;&gt;&lt;/script&gt;\n",
       "    &lt;script src=&quot;https://cdnjs.cloudflare.com/ajax/libs/Leaflet.awesome-markers/2.0.2/leaflet.awesome-markers.js&quot;&gt;&lt;/script&gt;\n",
       "    &lt;link rel=&quot;stylesheet&quot; href=&quot;https://cdn.jsdelivr.net/npm/leaflet@1.9.3/dist/leaflet.css&quot;/&gt;\n",
       "    &lt;link rel=&quot;stylesheet&quot; href=&quot;https://cdn.jsdelivr.net/npm/bootstrap@5.2.2/dist/css/bootstrap.min.css&quot;/&gt;\n",
       "    &lt;link rel=&quot;stylesheet&quot; href=&quot;https://netdna.bootstrapcdn.com/bootstrap/3.0.0/css/bootstrap.min.css&quot;/&gt;\n",
       "    &lt;link rel=&quot;stylesheet&quot; href=&quot;https://cdn.jsdelivr.net/npm/@fortawesome/fontawesome-free@6.2.0/css/all.min.css&quot;/&gt;\n",
       "    &lt;link rel=&quot;stylesheet&quot; href=&quot;https://cdnjs.cloudflare.com/ajax/libs/Leaflet.awesome-markers/2.0.2/leaflet.awesome-markers.css&quot;/&gt;\n",
       "    &lt;link rel=&quot;stylesheet&quot; href=&quot;https://cdn.jsdelivr.net/gh/python-visualization/folium/folium/templates/leaflet.awesome.rotate.min.css&quot;/&gt;\n",
       "    \n",
       "            &lt;meta name=&quot;viewport&quot; content=&quot;width=device-width,\n",
       "                initial-scale=1.0, maximum-scale=1.0, user-scalable=no&quot; /&gt;\n",
       "            &lt;style&gt;\n",
       "                #map_47bdebf85c8e237743a3b698df451f63 {\n",
       "                    position: relative;\n",
       "                    width: 100.0%;\n",
       "                    height: 100.0%;\n",
       "                    left: 0.0%;\n",
       "                    top: 0.0%;\n",
       "                }\n",
       "                .leaflet-container { font-size: 1rem; }\n",
       "            &lt;/style&gt;\n",
       "        \n",
       "    &lt;script src=&quot;https://cdn.jsdelivr.net/gh/python-visualization/folium@main/folium/templates/leaflet_heat.min.js&quot;&gt;&lt;/script&gt;\n",
       "&lt;/head&gt;\n",
       "&lt;body&gt;\n",
       "    \n",
       "    \n",
       "            &lt;div class=&quot;folium-map&quot; id=&quot;map_47bdebf85c8e237743a3b698df451f63&quot; &gt;&lt;/div&gt;\n",
       "        \n",
       "&lt;/body&gt;\n",
       "&lt;script&gt;\n",
       "    \n",
       "    \n",
       "            var map_47bdebf85c8e237743a3b698df451f63 = L.map(\n",
       "                &quot;map_47bdebf85c8e237743a3b698df451f63&quot;,\n",
       "                {\n",
       "                    center: [48.0, 5.0],\n",
       "                    crs: L.CRS.EPSG3857,\n",
       "                    zoom: 6,\n",
       "                    zoomControl: true,\n",
       "                    preferCanvas: false,\n",
       "                }\n",
       "            );\n",
       "\n",
       "            \n",
       "\n",
       "        \n",
       "    \n",
       "            var tile_layer_d5348f57440762b4fa980e80cc60ea47 = L.tileLayer(\n",
       "                &quot;https://stamen-tiles-{s}.a.ssl.fastly.net/toner/{z}/{x}/{y}.png&quot;,\n",
       "                {&quot;attribution&quot;: &quot;Map tiles by \\u003ca target=\\&quot;_blank\\&quot; href=\\&quot;http://stamen.com\\&quot;\\u003eStamen Design\\u003c/a\\u003e, under \\u003ca target=\\&quot;_blank\\&quot; href=\\&quot;http://creativecommons.org/licenses/by/3.0\\&quot;\\u003eCC BY 3.0\\u003c/a\\u003e. Data by \\u0026copy; \\u003ca target=\\&quot;_blank\\&quot; href=\\&quot;http://openstreetmap.org\\&quot;\\u003eOpenStreetMap\\u003c/a\\u003e, under \\u003ca target=\\&quot;_blank\\&quot; href=\\&quot;http://www.openstreetmap.org/copyright\\&quot;\\u003eODbL\\u003c/a\\u003e.&quot;, &quot;detectRetina&quot;: false, &quot;maxNativeZoom&quot;: 18, &quot;maxZoom&quot;: 18, &quot;minZoom&quot;: 0, &quot;noWrap&quot;: false, &quot;opacity&quot;: 1, &quot;subdomains&quot;: &quot;abc&quot;, &quot;tms&quot;: false}\n",
       "            );\n",
       "        \n",
       "    \n",
       "                tile_layer_d5348f57440762b4fa980e80cc60ea47.addTo(map_47bdebf85c8e237743a3b698df451f63);\n",
       "    \n",
       "            var heat_map_36384244882aedf8eec411d34c0210dc = L.heatLayer(\n",
       "                [[49.70945092847709, 5.5727747245469565, -0.04305914598684324], [48.90757584112299, 2.156387355011734, 2.540368880746888], [46.13460282805985, 5.928884863829234, -0.6877624802895901], [48.24293026746862, 4.517401717780512, 0.8046169433583307], [47.43723465700542, 5.459801943057124, 0.4752702790166261], [47.73490814017942, 4.707558752922227, 0.12951875873447405], [49.97678813178478, 3.3391336805995344, 0.7798915715670345], [47.35624389708822, 4.847209774800649, 1.2663321613571041], [46.46930574839036, 6.208646879528579, 2.513369738966718], [46.1738467281501, 4.407808645001394, 0.8579813229555572], [48.3528097421799, 5.640660645664836, 1.9880893163209303], [47.62748581484968, 6.7626916515996855, 1.4237431931204967], [46.94138601319134, 4.476927284363377, -0.17369250094382926], [50.54467409507466, 6.309207808073441, 1.3959479841387619], [47.269388972444034, 5.044175756322877, 0.7935818745907791], [49.70000106910249, 6.642543097943641, 0.6997479957377479], [48.93691221746737, 4.370528133706422, 3.0439135773881727], [48.452676340666336, 4.738441332716851, 1.6989393236435313], [47.29884927521736, 4.893617911329213, 1.0478980178208541], [47.458317659568806, 4.39891636743699, 1.0397787840881842], [47.71299793886273, 4.838925262305055, 1.8408957131719585], [48.76941629544902, 4.882512916534977, 0.6946750190055562], [46.898879808422805, 5.190681275447064, 1.223393484783713], [48.54897660151621, 5.725215388708917, 2.1277043683464076], [47.04142330041328, 4.894641143761865, 0.32010105223981333], [46.87370238938771, 4.0642346236466995, 0.21309044736273708], [46.41075950165552, 3.276694639437607, 1.6070750546933061], [48.30031346323312, 7.263998324853818, 1.7596722120053476], [48.036715346394146, 5.104777806198717, -0.07629040657290709], [49.21253354474097, 5.474420073650906, -0.22575547523070072], [48.70396866183365, 4.553462503355966, 1.715830867731054], [47.54395398782894, 5.8346410422980854, 1.6425915500121473], [49.13723533843041, 4.668900908743275, 0.42158443224459563], [48.75279745870994, 4.720165360767406, 3.5039381082829864], [48.92084651110552, 4.6738714847849465, 0.5006191092439586], [47.567127541435134, 5.390651963702938, -0.42908043450847244], [48.744695700726616, 5.5839760491567265, -1.681360287918321], [45.901655834313644, 5.7881908579881385, 1.423452392645131], [50.360583854739374, 6.060182025450023, 2.3004984119792513], [48.725593450301965, 4.693556850973149, 2.712824921217095], [48.48858751709839, 3.72113684303557, -0.24397881569297164], [46.252426586509095, 6.9505705512981155, 0.5974232314645461], [47.42325165661448, 5.50809454633057, -0.17635952180523273], [49.1431115879817, 3.837818519380263, 0.7671477831750937], [49.08967454962013, 5.60773885565157, 1.6241611407638894], [47.83122793113976, 5.3108522719207505, 0.972359650131322], [49.02432827698195, 5.2264871862319, 1.198688517821948], [48.50478154454747, 4.2350664382551235, 1.5105481845899547], [48.05142302373252, 4.182469866827789, 0.8637092386359064], [48.62356538417592, 5.637292757765083, -0.3816748907357852], [48.85782858586981, 3.4359465243533154, -0.3845600634652091], [49.2371013952309, 5.387500817433623, 1.660253483288014], [45.74205869428568, 5.789864919583212, 0.8098315761085425], [48.04685925731923, 5.703306741889592, 2.3322740941456055], [47.88398788359228, 4.223742789113555, 1.895523946738613], [50.27735239781556, 4.527330978761262, 1.1583632299150741], [48.121310314776196, 4.935822921302947, -0.06650756431165838], [47.611672266627956, 4.611612820947471, 1.5363557196173623], [46.918580584042054, 4.769879014230908, 1.5127076289092471], [47.00405250910847, 6.472726146665568, 0.7878956351333236], [48.60238019888842, 3.9295472132718468, 0.6499444790803157], [47.24552840152975, 6.39043998106392, 0.35607117628129614], [48.374707315168614, 3.05502613683779, 2.178208863535886], [47.52708550533389, 5.129583165124775, 0.9584766698161461], [47.886954632791706, 6.060069232373403, 2.3601470671754123], [47.884770298411276, 4.286330655500605, 2.1408741368613855], [49.56863874200172, 5.136009141758212, 2.200057789182331], [49.021098535279975, 3.9801214323888314, 3.108187049571158], [48.8937414045532, 5.697527128787978, 0.4323760707155585], [48.851949278498545, 4.7988884181757525, 2.744821485327678], [49.65703156780175, 6.396737034712701, 2.171153415798089], [46.05924112006758, 4.763995516922584, 1.212524120562855], [48.833277434392365, 4.339361155370505, 0.7214549140606038], [47.94699502981714, 5.568003958825486, 1.7779037412926664], [48.38168816221574, 5.252797972167763, 1.2262962038791205], [48.622222462081105, 5.636602821644964, -1.0221037660699808], [48.41046185359071, 5.728336501423641, 1.2591769476154189], [48.37266706344314, 4.343263732981014, 1.3961164710322531], [48.373282808560276, 3.9273877569089874, 2.7596376631688493], [48.2360070908566, 6.865404852549128, -0.5808730173219032], [48.59504706709439, 4.001120403010525, 1.192288852265931], [47.31356636431342, 5.660704778278661, -0.5098899227738605], [46.88411136522075, 4.267396418193125, 2.200995440411094], [48.68987061008441, 3.680773811636719, 0.1268694616545487], [48.52108899134672, 4.26822471167332, -0.27661877529322276], [44.82996145843087, 4.021268046419992, 1.7155465530494425], [48.25027571543899, 5.708488367161571, 0.7969626623791404], [47.401487354761365, 5.808031555782395, 1.3786301455810892], [50.372862186202745, 6.626955583964509, 1.5491974752809137], [48.8061866064437, 5.418566027568335, 2.048004684281797], [47.190160212489175, 5.10712337551751, -0.105042431840491], [47.11132640715962, 5.520388245896579, 2.7276407913446246], [48.60047852795791, 5.146774379241606, 0.8828151164648597], [47.65297156068506, 5.8850573270749695, -0.6304820411719958], [47.23722451915764, 4.720162563404454, 2.9085480253551346], [48.36849454266926, 5.619124523345789, 0.6288859092229822], [47.6148904983667, 4.872032429954955, -0.10775862924036828], [49.16330923985497, 5.35330862237029, 1.7451171556723342], [47.30370559058402, 4.253124629937419, 0.6395189878259073], [47.40920469053352, 3.737092824043174, 1.1975280587357962]],\n",
       "                {&quot;blur&quot;: 15, &quot;maxZoom&quot;: 18, &quot;minOpacity&quot;: 0.5, &quot;radius&quot;: 25}\n",
       "            );\n",
       "        \n",
       "    \n",
       "                heat_map_36384244882aedf8eec411d34c0210dc.addTo(map_47bdebf85c8e237743a3b698df451f63);\n",
       "&lt;/script&gt;\n",
       "&lt;/html&gt;\" style=\"position:absolute;width:100%;height:100%;left:0;top:0;border:none !important;\" allowfullscreen webkitallowfullscreen mozallowfullscreen></iframe></div></div>"
      ],
      "text/plain": [
       "<folium.folium.Map at 0x7fced2946250>"
      ]
     },
     "execution_count": 2,
     "metadata": {},
     "output_type": "execute_result"
    }
   ],
   "source": [
    "import folium\n",
    "from folium.plugins import HeatMap\n",
    "\n",
    "m = folium.Map([48.0, 5.0], tiles=\"stamentoner\", zoom_start=6)\n",
    "\n",
    "HeatMap(data).add_to(m)\n",
    "\n",
    "m"
   ]
  }
 ],
 "metadata": {
  "jupytext": {
   "text_representation": {
    "extension": ".mystnb",
    "format_name": "myst"
   }
  },
  "language_info": {
   "codemirror_mode": {
    "name": "ipython",
    "version": 3
   },
   "file_extension": ".py",
   "mimetype": "text/x-python",
   "name": "python",
   "nbconvert_exporter": "python",
   "pygments_lexer": "ipython3",
   "version": "3.11.5"
  }
 },
 "nbformat": 4,
 "nbformat_minor": 5
}
